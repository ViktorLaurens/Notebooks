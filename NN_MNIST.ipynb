{
  "cells": [
    {
      "cell_type": "markdown",
      "metadata": {
        "id": "view-in-github",
        "colab_type": "text"
      },
      "source": [
        "<a href=\"https://colab.research.google.com/github/ViktorLaurens/Notebooks/blob/main/NN_MNIST.ipynb\" target=\"_parent\"><img src=\"https://colab.research.google.com/assets/colab-badge.svg\" alt=\"Open In Colab\"/></a>"
      ]
    },
    {
      "cell_type": "markdown",
      "metadata": {
        "id": "M-vvpUy_hb4E"
      },
      "source": [
        "# This is a notebook for a simple project in which we will train a neural network to recognize digits."
      ]
    },
    {
      "cell_type": "markdown",
      "metadata": {
        "id": "Mrc1NvjPhSQl"
      },
      "source": [
        "Let's start by importing everything we need."
      ]
    },
    {
      "cell_type": "code",
      "execution_count": 11,
      "metadata": {
        "id": "hUPkwRtBluEi"
      },
      "outputs": [],
      "source": [
        "import numpy as np\n",
        "import pandas as pd\n",
        "import matplotlib.pyplot as plt\n",
        "from keras.datasets import mnist\n",
        "\n",
        "(X_train, Y_train), (X_test, Y_test) = mnist.load_data()"
      ]
    },
    {
      "cell_type": "markdown",
      "metadata": {
        "id": "E2-I76wzkscL"
      },
      "source": [
        "Let's look at the data."
      ]
    },
    {
      "cell_type": "code",
      "execution_count": 12,
      "metadata": {
        "colab": {
          "base_uri": "https://localhost:8080/",
          "height": 1000
        },
        "id": "axQjV27tjTK0",
        "outputId": "9cc74907-4497-4e96-b970-4b5fbee5b5c4"
      },
      "outputs": [
        {
          "output_type": "stream",
          "name": "stdout",
          "text": [
            "Shape of X_train: (60000, 28, 28)\n",
            "Shape of y_train: (60000,)\n",
            "Shape of X_test: (10000, 28, 28)\n",
            "Shape of y_test: (10000,)\n",
            "\n",
            "First example in X_train:\n",
            "[[  0   0   0   0   0   0   0   0   0   0   0   0   0   0   0   0   0   0\n",
            "    0   0   0   0   0   0   0   0   0   0]\n",
            " [  0   0   0   0   0   0   0   0   0   0   0   0   0   0   0   0   0   0\n",
            "    0   0   0   0   0   0   0   0   0   0]\n",
            " [  0   0   0   0   0   0   0   0   0   0   0   0   0   0   0   0   0   0\n",
            "    0   0   0   0   0   0   0   0   0   0]\n",
            " [  0   0   0   0   0   0   0   0   0   0   0   0   0   0   0   0   0   0\n",
            "    0   0   0   0   0   0   0   0   0   0]\n",
            " [  0   0   0   0   0   0   0   0   0   0   0   0   0   0   0   0   0   0\n",
            "    0   0   0   0   0   0   0   0   0   0]\n",
            " [  0   0   0   0   0   0   0   0   0   0   0   0   3  18  18  18 126 136\n",
            "  175  26 166 255 247 127   0   0   0   0]\n",
            " [  0   0   0   0   0   0   0   0  30  36  94 154 170 253 253 253 253 253\n",
            "  225 172 253 242 195  64   0   0   0   0]\n",
            " [  0   0   0   0   0   0   0  49 238 253 253 253 253 253 253 253 253 251\n",
            "   93  82  82  56  39   0   0   0   0   0]\n",
            " [  0   0   0   0   0   0   0  18 219 253 253 253 253 253 198 182 247 241\n",
            "    0   0   0   0   0   0   0   0   0   0]\n",
            " [  0   0   0   0   0   0   0   0  80 156 107 253 253 205  11   0  43 154\n",
            "    0   0   0   0   0   0   0   0   0   0]\n",
            " [  0   0   0   0   0   0   0   0   0  14   1 154 253  90   0   0   0   0\n",
            "    0   0   0   0   0   0   0   0   0   0]\n",
            " [  0   0   0   0   0   0   0   0   0   0   0 139 253 190   2   0   0   0\n",
            "    0   0   0   0   0   0   0   0   0   0]\n",
            " [  0   0   0   0   0   0   0   0   0   0   0  11 190 253  70   0   0   0\n",
            "    0   0   0   0   0   0   0   0   0   0]\n",
            " [  0   0   0   0   0   0   0   0   0   0   0   0  35 241 225 160 108   1\n",
            "    0   0   0   0   0   0   0   0   0   0]\n",
            " [  0   0   0   0   0   0   0   0   0   0   0   0   0  81 240 253 253 119\n",
            "   25   0   0   0   0   0   0   0   0   0]\n",
            " [  0   0   0   0   0   0   0   0   0   0   0   0   0   0  45 186 253 253\n",
            "  150  27   0   0   0   0   0   0   0   0]\n",
            " [  0   0   0   0   0   0   0   0   0   0   0   0   0   0   0  16  93 252\n",
            "  253 187   0   0   0   0   0   0   0   0]\n",
            " [  0   0   0   0   0   0   0   0   0   0   0   0   0   0   0   0   0 249\n",
            "  253 249  64   0   0   0   0   0   0   0]\n",
            " [  0   0   0   0   0   0   0   0   0   0   0   0   0   0  46 130 183 253\n",
            "  253 207   2   0   0   0   0   0   0   0]\n",
            " [  0   0   0   0   0   0   0   0   0   0   0   0  39 148 229 253 253 253\n",
            "  250 182   0   0   0   0   0   0   0   0]\n",
            " [  0   0   0   0   0   0   0   0   0   0  24 114 221 253 253 253 253 201\n",
            "   78   0   0   0   0   0   0   0   0   0]\n",
            " [  0   0   0   0   0   0   0   0  23  66 213 253 253 253 253 198  81   2\n",
            "    0   0   0   0   0   0   0   0   0   0]\n",
            " [  0   0   0   0   0   0  18 171 219 253 253 253 253 195  80   9   0   0\n",
            "    0   0   0   0   0   0   0   0   0   0]\n",
            " [  0   0   0   0  55 172 226 253 253 253 253 244 133  11   0   0   0   0\n",
            "    0   0   0   0   0   0   0   0   0   0]\n",
            " [  0   0   0   0 136 253 253 253 212 135 132  16   0   0   0   0   0   0\n",
            "    0   0   0   0   0   0   0   0   0   0]\n",
            " [  0   0   0   0   0   0   0   0   0   0   0   0   0   0   0   0   0   0\n",
            "    0   0   0   0   0   0   0   0   0   0]\n",
            " [  0   0   0   0   0   0   0   0   0   0   0   0   0   0   0   0   0   0\n",
            "    0   0   0   0   0   0   0   0   0   0]\n",
            " [  0   0   0   0   0   0   0   0   0   0   0   0   0   0   0   0   0   0\n",
            "    0   0   0   0   0   0   0   0   0   0]]\n",
            "\n",
            "Visualizing the first example in X_train:\n"
          ]
        },
        {
          "output_type": "display_data",
          "data": {
            "text/plain": [
              "<Figure size 640x480 with 2 Axes>"
            ],
            "image/png": "[encoded data removed]"
          },
          "metadata": {}
        },
        {
          "output_type": "stream",
          "name": "stdout",
          "text": [
            "\n",
            "Corresponding label in Y_train:\n",
            "5\n",
            "\n",
            "First example in X_test:\n",
            "[[  0   0   0   0   0   0   0   0   0   0   0   0   0   0   0   0   0   0\n",
            "    0   0   0   0   0   0   0   0   0   0]\n",
            " [  0   0   0   0   0   0   0   0   0   0   0   0   0   0   0   0   0   0\n",
            "    0   0   0   0   0   0   0   0   0   0]\n",
            " [  0   0   0   0   0   0   0   0   0   0   0   0   0   0   0   0   0   0\n",
            "    0   0   0   0   0   0   0   0   0   0]\n",
            " [  0   0   0   0   0   0   0   0   0   0   0   0   0   0   0   0   0   0\n",
            "    0   0   0   0   0   0   0   0   0   0]\n",
            " [  0   0   0   0   0   0   0   0   0   0   0   0   0   0   0   0   0   0\n",
            "    0   0   0   0   0   0   0   0   0   0]\n",
            " [  0   0   0   0   0   0   0   0   0   0   0   0   0   0   0   0   0   0\n",
            "    0   0   0   0   0   0   0   0   0   0]\n",
            " [  0   0   0   0   0   0   0   0   0   0   0   0   0   0   0   0   0   0\n",
            "    0   0   0   0   0   0   0   0   0   0]\n",
            " [  0   0   0   0   0   0  84 185 159 151  60  36   0   0   0   0   0   0\n",
            "    0   0   0   0   0   0   0   0   0   0]\n",
            " [  0   0   0   0   0   0 222 254 254 254 254 241 198 198 198 198 198 198\n",
            "  198 198 170  52   0   0   0   0   0   0]\n",
            " [  0   0   0   0   0   0  67 114  72 114 163 227 254 225 254 254 254 250\n",
            "  229 254 254 140   0   0   0   0   0   0]\n",
            " [  0   0   0   0   0   0   0   0   0   0   0  17  66  14  67  67  67  59\n",
            "   21 236 254 106   0   0   0   0   0   0]\n",
            " [  0   0   0   0   0   0   0   0   0   0   0   0   0   0   0   0   0   0\n",
            "   83 253 209  18   0   0   0   0   0   0]\n",
            " [  0   0   0   0   0   0   0   0   0   0   0   0   0   0   0   0   0  22\n",
            "  233 255  83   0   0   0   0   0   0   0]\n",
            " [  0   0   0   0   0   0   0   0   0   0   0   0   0   0   0   0   0 129\n",
            "  254 238  44   0   0   0   0   0   0   0]\n",
            " [  0   0   0   0   0   0   0   0   0   0   0   0   0   0   0   0  59 249\n",
            "  254  62   0   0   0   0   0   0   0   0]\n",
            " [  0   0   0   0   0   0   0   0   0   0   0   0   0   0   0   0 133 254\n",
            "  187   5   0   0   0   0   0   0   0   0]\n",
            " [  0   0   0   0   0   0   0   0   0   0   0   0   0   0   0   9 205 248\n",
            "   58   0   0   0   0   0   0   0   0   0]\n",
            " [  0   0   0   0   0   0   0   0   0   0   0   0   0   0   0 126 254 182\n",
            "    0   0   0   0   0   0   0   0   0   0]\n",
            " [  0   0   0   0   0   0   0   0   0   0   0   0   0   0  75 251 240  57\n",
            "    0   0   0   0   0   0   0   0   0   0]\n",
            " [  0   0   0   0   0   0   0   0   0   0   0   0   0  19 221 254 166   0\n",
            "    0   0   0   0   0   0   0   0   0   0]\n",
            " [  0   0   0   0   0   0   0   0   0   0   0   0   3 203 254 219  35   0\n",
            "    0   0   0   0   0   0   0   0   0   0]\n",
            " [  0   0   0   0   0   0   0   0   0   0   0   0  38 254 254  77   0   0\n",
            "    0   0   0   0   0   0   0   0   0   0]\n",
            " [  0   0   0   0   0   0   0   0   0   0   0  31 224 254 115   1   0   0\n",
            "    0   0   0   0   0   0   0   0   0   0]\n",
            " [  0   0   0   0   0   0   0   0   0   0   0 133 254 254  52   0   0   0\n",
            "    0   0   0   0   0   0   0   0   0   0]\n",
            " [  0   0   0   0   0   0   0   0   0   0  61 242 254 254  52   0   0   0\n",
            "    0   0   0   0   0   0   0   0   0   0]\n",
            " [  0   0   0   0   0   0   0   0   0   0 121 254 254 219  40   0   0   0\n",
            "    0   0   0   0   0   0   0   0   0   0]\n",
            " [  0   0   0   0   0   0   0   0   0   0 121 254 207  18   0   0   0   0\n",
            "    0   0   0   0   0   0   0   0   0   0]\n",
            " [  0   0   0   0   0   0   0   0   0   0   0   0   0   0   0   0   0   0\n",
            "    0   0   0   0   0   0   0   0   0   0]]\n",
            "\n",
            "Visualizing the first example in X_test:\n"
          ]
        },
        {
          "output_type": "display_data",
          "data": {
            "text/plain": [
              "<Figure size 640x480 with 2 Axes>"
            ],
            "image/png": "[encoded data removed]"
          },
          "metadata": {}
        },
        {
          "output_type": "stream",
          "name": "stdout",
          "text": [
            "\n",
            "Corresponding label in Y_test:\n",
            "7\n",
            "\n",
            "Unique labels in y_train: [0 1 2 3 4 5 6 7 8 9]\n",
            "Unique labels in y_test: [0 1 2 3 4 5 6 7 8 9]\n",
            "\n",
            "Checking for NaN or infinity in X_train: False False\n",
            "Checking for NaN or infinity in Y_train: False False\n",
            "Checking for NaN or infinity in X_test: False False\n",
            "Checking for NaN or infinity in Y_test: False False\n"
          ]
        }
      ],
      "source": [
        "# Check shapes of the datasets\n",
        "print(\"Shape of X_train:\", X_train.shape)\n",
        "print(\"Shape of y_train:\", Y_train.shape)\n",
        "print(\"Shape of X_test:\", X_test.shape)\n",
        "print(\"Shape of y_test:\", Y_test.shape)\n",
        "\n",
        "print(\"\\nFirst example in X_train:\")\n",
        "print(X_train[0])  # View the first example (flattened or unflattened)\n",
        "\n",
        "# Visualize the first example in X_train\n",
        "print(\"\\nVisualizing the first example in X_train:\")\n",
        "plt.imshow(X_train[0], cmap='gray')  # Display the image in grayscale\n",
        "plt.title(f\"Label: {Y_train[0]}\")  # Display the corresponding label as title\n",
        "plt.colorbar()  # Optional: add a colorbar\n",
        "plt.show()\n",
        "\n",
        "print(\"\\nCorresponding label in Y_train:\")\n",
        "print(Y_train[0])  # View the label for the first example\n",
        "\n",
        "print(\"\\nFirst example in X_test:\")\n",
        "print(X_test[0])  # View the first test example\n",
        "\n",
        "# Visualize the first example in X_test\n",
        "print(\"\\nVisualizing the first example in X_test:\")\n",
        "plt.imshow(X_test[0], cmap='gray')  # Display the image in grayscale\n",
        "plt.title(f\"Label: {Y_test[0]}\")  # Display the corresponding label as title\n",
        "plt.colorbar()  # Optional: add a colorbar\n",
        "plt.show()\n",
        "\n",
        "print(\"\\nCorresponding label in Y_test:\")\n",
        "print(Y_test[0])  # View the label for the first test example\n",
        "\n",
        "# Verify unique labels in the dataset\n",
        "print(\"\\nUnique labels in y_train:\", np.unique(Y_train))\n",
        "print(\"Unique labels in y_test:\", np.unique(Y_test))\n",
        "\n",
        "# Check if there are NaN or infinity values in the datasets\n",
        "print(\"\\nChecking for NaN or infinity in X_train:\", np.isnan(X_train).any(), np.isinf(X_train).any())\n",
        "print(\"Checking for NaN or infinity in Y_train:\", np.isnan(Y_train).any(), np.isinf(Y_train).any())\n",
        "print(\"Checking for NaN or infinity in X_test:\", np.isnan(X_test).any(), np.isinf(X_test).any())\n",
        "print(\"Checking for NaN or infinity in Y_test:\", np.isnan(Y_test).any(), np.isinf(Y_test).any())"
      ]
    },
    {
      "cell_type": "markdown",
      "source": [
        "Normalize data."
      ],
      "metadata": {
        "id": "unpt6gA9Qoou"
      }
    },
    {
      "cell_type": "code",
      "source": [
        "# Normalize data\n",
        "X_train = X_train / 255.\n",
        "X_test = X_test / 255.\n",
        "\n",
        "# print(\"\\nFirst example in X_train:\")\n",
        "# print(X_train[0])  # View the first example (flattened or unflattened)"
      ],
      "metadata": {
        "id": "n9ZfIdE8QFrC"
      },
      "execution_count": 13,
      "outputs": []
    },
    {
      "cell_type": "markdown",
      "source": [
        "At this stage the data x_train and x_test is multi-dimensional which requires the use of CNN's. Instead we can flatten the data as we will do here but then spatial data between the features is lost. Now shape is (..., 28, 28) and we go to (..., 784)."
      ],
      "metadata": {
        "id": "YCRrng4qQvmu"
      }
    },
    {
      "cell_type": "code",
      "source": [
        "# Flatten\n",
        "X_train = X_train.reshape(60000,784)\n",
        "X_test = X_test.reshape(10000,784)\n",
        "\n",
        "# print(\"\\nFirst example in X_train:\")\n",
        "# print(X_train[0])  # View the first example (flattened or unflattened)\n",
        "\n",
        "# print(\"\\nX_train:\")\n",
        "# print(X_train)  # View the first example (flattened or unflattened)"
      ],
      "metadata": {
        "id": "UJNINC9sQ-YJ"
      },
      "execution_count": 14,
      "outputs": []
    },
    {
      "cell_type": "markdown",
      "source": [
        "Transpose."
      ],
      "metadata": {
        "id": "foRGB2FYVv2i"
      }
    },
    {
      "cell_type": "code",
      "source": [
        "X_train = X_train.T\n",
        "X_test = X_test.T\n",
        "\n",
        "Y_train = Y_train.T\n",
        "Y_test = Y_test.T\n",
        "\n",
        "# Check shapes of the datasets\n",
        "print(\"Shape of X_train:\", X_train.shape)\n",
        "print(\"Shape of y_train:\", Y_train.shape)\n",
        "print(\"Shape of X_test:\", X_test.shape)\n",
        "print(\"Shape of y_test:\", Y_test.shape)\n",
        "\n",
        "# print(\"\\nFirst example in X_train:\")\n",
        "# print(X_train[:, 0])  # View the first example (flattened or unflattened)\n",
        "\n",
        "# print(\"\\nX_train:\")\n",
        "# print(X_train)  # View the first example (flattened or unflattened)"
      ],
      "metadata": {
        "colab": {
          "base_uri": "https://localhost:8080/"
        },
        "id": "QdSxdCJpVzoQ",
        "outputId": "f30975a2-a668-4189-e946-c94c58c9c459"
      },
      "execution_count": 15,
      "outputs": [
        {
          "output_type": "stream",
          "name": "stdout",
          "text": [
            "Shape of X_train: (784, 60000)\n",
            "Shape of y_train: (60000,)\n",
            "Shape of X_test: (784, 10000)\n",
            "Shape of y_test: (10000,)\n"
          ]
        }
      ]
    },
    {
      "cell_type": "markdown",
      "metadata": {
        "id": "Mn0ej4wCovCN"
      },
      "source": [
        "Now we have our data in the right dimensions for a regular NN. Let's continue with initializing weigths and biases of NN.\n"
      ]
    },
    {
      "cell_type": "code",
      "execution_count": 23,
      "metadata": {
        "id": "HALnOTuopDOO"
      },
      "outputs": [],
      "source": [
        "def init_params():\n",
        "  W1 = np.random.rand(10, 784) - 0.5 # Simple initialization\n",
        "  # W1 = np.random.randn(10, 784) * np.sqrt(2. / 784) # He initialization (suitable for ReLU activation)\n",
        "  b1 = np.random.rand(10, 1) - 0.5\n",
        "  W2 = np.random.rand(10, 10) - 0.5 # Simple initialization\n",
        "  # W2 = np.random.randn(10, 10) * np.sqrt(2. / 10) # He initialization (suitable for ReLU activation)\n",
        "  b2 = np.random.rand(10, 1) - 0.5\n",
        "  return W1, b1, W2, b2\n",
        "\n",
        "def ReLU(Z):\n",
        "  return np.maximum(0, Z)\n",
        "\n",
        "# def softmax(Z):\n",
        "#   return np.exp(Z)/ np.sum(np.exp(Z))\n",
        "\n",
        "def softmax(logits):\n",
        "    exp_logits = np.exp(logits - np.max(logits, axis=0, keepdims=True))  # Numerical stability improvement\n",
        "    return exp_logits / np.sum(exp_logits, axis=0, keepdims=True)\n",
        "\n",
        "def forward_prop(W1, b1, W2, b2, X):\n",
        "  Z1 = W1 @ X + b1\n",
        "  A1 = ReLU(Z1)\n",
        "  Z2 = W2 @ A1 + b2\n",
        "  A2 = softmax(Z2)\n",
        "  return Z1, A1, Z2, A2\n",
        "\n",
        "def one_hot(Y):\n",
        "  one_hot_Y = np.zeros((Y.size, 10))\n",
        "  one_hot_Y[np.arange(Y.size), Y] = 1\n",
        "  return one_hot_Y.T\n",
        "\n",
        "def deriv_ReLU(Z):\n",
        "  return Z > 0\n",
        "\n",
        "def back_prop(Z1, A1, Z2, A2, W2, X, Y):\n",
        "  m = Y.size\n",
        "  one_hot_Y = one_hot(Y)\n",
        "  dZ2 = A2 - one_hot_Y\n",
        "  dW2 = 1 / m * dZ2 @ A1.T\n",
        "  db2 = 1 / m * np.sum(dZ2, axis=1, keepdims=True)\n",
        "  dZ1 = W2.T @ dZ2 * deriv_ReLU(Z1)\n",
        "  dW1 = 1 / m * dZ1 @ X.T\n",
        "  db1 = 1 / m * np.sum(dZ1, axis=1, keepdims=True)\n",
        "  return dW1, db1, dW2, db2\n",
        "\n",
        "def update_params(W1, b1, W2, b2, dW1, db1, dW2, db2, alpha):\n",
        "  W1 = W1 - alpha * dW1\n",
        "  b1 = b1 - alpha * db1\n",
        "  W2 = W2 - alpha * dW2\n",
        "  b2 = b2 - alpha * db2\n",
        "  return W1, b1, W2, b2"
      ]
    },
    {
      "cell_type": "markdown",
      "metadata": {
        "id": "TO3YhI_xHHil"
      },
      "source": [
        "Let's test our functions."
      ]
    },
    {
      "cell_type": "code",
      "execution_count": 24,
      "metadata": {
        "colab": {
          "base_uri": "https://localhost:8080/"
        },
        "id": "czOA71cTHLJR",
        "outputId": "277754f7-5c46-4bed-bb5c-4c945c8019c6"
      },
      "outputs": [
        {
          "output_type": "stream",
          "name": "stdout",
          "text": [
            "W1:  [-0.21415477 -0.09801794 -0.39416271 -0.36511161  0.415763   -0.25217127\n",
            "  0.40632612  0.20603476 -0.06139729  0.20604244] \n",
            "b1:  [[-0.07901146]\n",
            " [ 0.04331406]\n",
            " [-0.297577  ]\n",
            " [ 0.36110537]\n",
            " [-0.0320673 ]\n",
            " [-0.21631763]\n",
            " [-0.41261374]\n",
            " [ 0.34991913]\n",
            " [ 0.49178689]\n",
            " [ 0.13560321]] \n",
            "W2:  [-0.196353   -0.13181815  0.45269833  0.08709636  0.33825872  0.41278566\n",
            "  0.295899   -0.46774411  0.12350403  0.32066186] \n",
            "b2:  [[ 0.39722728]\n",
            " [-0.21511663]\n",
            " [ 0.02406259]\n",
            " [ 0.30633272]\n",
            " [-0.05178512]\n",
            " [ 0.2473782 ]\n",
            " [ 0.14829364]\n",
            " [ 0.0334764 ]\n",
            " [-0.23158055]\n",
            " [-0.48458234]]\n",
            "Z1:  [-2.03222637  5.67649328  0.70106629  3.4423137  -6.03380387 -4.29410166\n",
            " -4.09855805 -2.07179083  1.84617302 -2.29480534] \n",
            "A1:  [0.         5.67649328 0.70106629 3.4423137  0.         0.\n",
            " 0.         0.         1.84617302 0.        ] \n",
            "Z2:  [ 1.14662258  1.68347763  2.90858131 -0.12893921  2.26463829 -2.32186486\n",
            "  4.02925863 -2.51678917  3.66335947  1.63205199] \n",
            "A2:  [0.02282918 0.03905202 0.13295335 0.0063756  0.06982941 0.00071145\n",
            " 0.40775871 0.00058545 0.28281032 0.03709451]\n",
            "dW1:  [0. 0. 0. 0. 0. 0. 0. 0. 0. 0.] \n",
            "db1:  [[ 0.07463791]\n",
            " [ 0.11742126]\n",
            " [ 0.08057375]\n",
            " [ 0.11204329]\n",
            " [ 0.06504718]\n",
            " [ 0.00025447]\n",
            " [-0.01585141]\n",
            " [ 0.03481329]\n",
            " [ 0.01916417]\n",
            " [-0.00442105]] \n",
            "dW2:  [-0.01248115 -0.06185765  0.05473704 -0.03907671  0.03891556 -0.01987667\n",
            "  0.1354011  -0.11316305  0.02631204 -0.00891051] \n",
            "db2:  [[-0.00923191]\n",
            " [-0.0514763 ]\n",
            " [ 0.04250289]\n",
            " [-0.04705544]\n",
            " [-0.01301832]\n",
            " [-0.06020073]\n",
            " [ 0.13614361]\n",
            " [-0.03932366]\n",
            " [ 0.06242161]\n",
            " [-0.02076174]]\n",
            "W1:  [-0.21415477 -0.09801794 -0.39416271 -0.36511161  0.415763   -0.25217127\n",
            "  0.40632612  0.20603476 -0.06139729  0.20604244] \n",
            "b1:  [[-0.08647525]\n",
            " [ 0.03157194]\n",
            " [-0.30563438]\n",
            " [ 0.34990104]\n",
            " [-0.03857202]\n",
            " [-0.21634308]\n",
            " [-0.41102859]\n",
            " [ 0.3464378 ]\n",
            " [ 0.48987047]\n",
            " [ 0.13604532]] \n",
            "W2:  [-0.19510489 -0.12563239  0.44722462  0.09100403  0.33436717  0.41477333\n",
            "  0.28235889 -0.4564278   0.12087283  0.32155291] \n",
            "b2:  [[ 0.39815047]\n",
            " [-0.209969  ]\n",
            " [ 0.0198123 ]\n",
            " [ 0.31103826]\n",
            " [-0.05048329]\n",
            " [ 0.25339828]\n",
            " [ 0.13467928]\n",
            " [ 0.03740876]\n",
            " [-0.23782271]\n",
            " [-0.48250616]]\n"
          ]
        }
      ],
      "source": [
        "W1, b1, W2, b2 = init_params()\n",
        "print('W1: ', W1[:, 0], '\\nb1: ', b1, '\\nW2: ', W2[:, 0], '\\nb2: ', b2)\n",
        "\n",
        "Z1, A1, Z2, A2 = forward_prop(W1, b1, W2, b2, X_train)\n",
        "print('Z1: ', Z1[:, 0], '\\nA1: ', A1[:, 0], '\\nZ2: ', Z2[:, 0], '\\nA2: ', A2[:, 0])\n",
        "\n",
        "dW1, db1, dW2, db2 = back_prop(Z1, A1, Z2, A2, W2, X_train, Y_train)\n",
        "print('dW1: ', dW1[:, 0], '\\ndb1: ', db1, '\\ndW2: ', dW2[:, 0], '\\ndb2: ', db2)\n",
        "\n",
        "W1, b1, W2, b2 = update_params(W1, b1, W2, b2, dW1, db1, dW2, db2, 0.1)\n",
        "print('W1: ', W1[:, 0], '\\nb1: ', b1, '\\nW2: ', W2[:, 0], '\\nb2: ', b2)"
      ]
    },
    {
      "cell_type": "markdown",
      "metadata": {
        "id": "8HNdCuI2x21V"
      },
      "source": [
        "Now that we have all necessary functions for creation and training of are NN, let's do just that using gradient descent."
      ]
    },
    {
      "cell_type": "code",
      "execution_count": 25,
      "metadata": {
        "id": "AgM52jetyDB6"
      },
      "outputs": [],
      "source": [
        "def get_predictions(A2):\n",
        "  return np.argmax(A2, 0)\n",
        "\n",
        "def get_accuracy(predictions, Y):\n",
        "  print(predictions, Y)\n",
        "  return np.sum(predictions == Y) / Y.size\n",
        "\n",
        "def gradient_descent(X, Y, iterations, alpha):\n",
        "  W1, b1, W2, b2 = init_params()\n",
        "  for i in range(iterations):\n",
        "    Z1, A1, Z2, A2 = forward_prop(W1, b1, W2, b2, X)\n",
        "    dW1, db1, dW2, db2 = back_prop(Z1, A1, Z2, A2, W2, X, Y)\n",
        "    W1, b1, W2, b2 = update_params(W1, b1, W2, b2, dW1, db1, dW2, db2, alpha)\n",
        "    if i % 50 == 0:\n",
        "      print('Iteration: ', i)\n",
        "      print('Accuracy: ', get_accuracy(get_predictions(A2), Y))\n",
        "  return W1, b1, W2, b2"
      ]
    },
    {
      "cell_type": "markdown",
      "metadata": {
        "id": "U2kxYFzK0PVC"
      },
      "source": [
        "Let's run the gradient descent algorithm."
      ]
    },
    {
      "cell_type": "code",
      "execution_count": 27,
      "metadata": {
        "colab": {
          "base_uri": "https://localhost:8080/"
        },
        "id": "OL3jWWQT0UBn",
        "outputId": "f13c7a27-0b0b-4e2e-ef95-d69fa5fc872a"
      },
      "outputs": [
        {
          "output_type": "stream",
          "name": "stdout",
          "text": [
            "Iteration:  0\n",
            "[9 7 2 ... 4 7 0] [5 0 4 ... 5 6 8]\n",
            "Accuracy:  0.07796666666666667\n",
            "Iteration:  50\n",
            "[9 0 2 ... 4 3 0] [5 0 4 ... 5 6 8]\n",
            "Accuracy:  0.3526166666666667\n",
            "Iteration:  100\n",
            "[3 0 8 ... 5 3 0] [5 0 4 ... 5 6 8]\n",
            "Accuracy:  0.5302666666666667\n",
            "Iteration:  150\n",
            "[3 0 8 ... 5 3 0] [5 0 4 ... 5 6 8]\n",
            "Accuracy:  0.66675\n",
            "Iteration:  200\n",
            "[3 0 4 ... 5 3 0] [5 0 4 ... 5 6 8]\n",
            "Accuracy:  0.7199333333333333\n",
            "Iteration:  250\n",
            "[3 0 4 ... 5 2 0] [5 0 4 ... 5 6 8]\n",
            "Accuracy:  0.7541833333333333\n",
            "Iteration:  300\n",
            "[3 0 4 ... 5 2 0] [5 0 4 ... 5 6 8]\n",
            "Accuracy:  0.7808666666666667\n",
            "Iteration:  350\n",
            "[3 0 4 ... 5 2 0] [5 0 4 ... 5 6 8]\n",
            "Accuracy:  0.8018333333333333\n",
            "Iteration:  400\n",
            "[3 0 4 ... 5 2 0] [5 0 4 ... 5 6 8]\n",
            "Accuracy:  0.8159833333333333\n",
            "Iteration:  450\n",
            "[3 0 4 ... 5 2 0] [5 0 4 ... 5 6 8]\n",
            "Accuracy:  0.8259166666666666\n",
            "Iteration:  500\n",
            "[3 0 4 ... 5 2 8] [5 0 4 ... 5 6 8]\n",
            "Accuracy:  0.8349166666666666\n",
            "Iteration:  550\n",
            "[3 0 4 ... 5 2 8] [5 0 4 ... 5 6 8]\n",
            "Accuracy:  0.8419833333333333\n",
            "Iteration:  600\n",
            "[3 0 4 ... 5 2 8] [5 0 4 ... 5 6 8]\n",
            "Accuracy:  0.8486333333333334\n",
            "Iteration:  650\n",
            "[3 0 4 ... 5 2 8] [5 0 4 ... 5 6 8]\n",
            "Accuracy:  0.8530666666666666\n",
            "Iteration:  700\n",
            "[3 0 4 ... 5 2 8] [5 0 4 ... 5 6 8]\n",
            "Accuracy:  0.8577\n",
            "Iteration:  750\n",
            "[3 0 4 ... 5 2 8] [5 0 4 ... 5 6 8]\n",
            "Accuracy:  0.8617833333333333\n",
            "Iteration:  800\n",
            "[3 0 4 ... 5 2 8] [5 0 4 ... 5 6 8]\n",
            "Accuracy:  0.8655833333333334\n",
            "Iteration:  850\n",
            "[3 0 4 ... 5 2 8] [5 0 4 ... 5 6 8]\n",
            "Accuracy:  0.8693\n",
            "Iteration:  900\n",
            "[3 0 4 ... 5 2 8] [5 0 4 ... 5 6 8]\n",
            "Accuracy:  0.87265\n",
            "Iteration:  950\n",
            "[3 0 4 ... 5 2 8] [5 0 4 ... 5 6 8]\n",
            "Accuracy:  0.8751333333333333\n"
          ]
        }
      ],
      "source": [
        "iterations = 1000\n",
        "alpha = 0.1\n",
        "W1, b1, W2, b2 = gradient_descent(X_train, Y_train, iterations, alpha)"
      ]
    }
  ],
  "metadata": {
    "colab": {
      "provenance": [],
      "authorship_tag": "ABX9TyO3C3rqDx9dwdPTNC2dqlwb",
      "include_colab_link": true
    },
    "kernelspec": {
      "display_name": "Python 3",
      "name": "python3"
    },
    "language_info": {
      "name": "python"
    }
  },
  "nbformat": 4,
  "nbformat_minor": 0
}